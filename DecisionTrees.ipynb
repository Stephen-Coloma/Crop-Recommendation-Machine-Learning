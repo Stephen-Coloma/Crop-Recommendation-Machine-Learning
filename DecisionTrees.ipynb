{
 "cells": [
  {
   "cell_type": "code",
   "id": "initial_id",
   "metadata": {
    "collapsed": true,
    "ExecuteTime": {
     "end_time": "2025-03-10T12:31:35.758105Z",
     "start_time": "2025-03-10T12:31:34.012237Z"
    }
   },
   "source": [
    "import pandas as pd\n",
    "import numpy as np\n",
    "from sklearn.model_selection import train_test_split, cross_val_score, StratifiedKFold\n",
    "from sklearn.tree import DecisionTreeClassifier\n",
    "from sklearn.metrics import confusion_matrix, accuracy_score, precision_score, recall_score, roc_auc_score\n",
    "from sklearn.preprocessing import LabelEncoder\n",
    "\n",
    "df = pd.read_csv(\"data/normalized-data-crop-recommendation.csv\")\n",
    "\n",
    "label_encoder = LabelEncoder()\n",
    "df[\"label\"] = label_encoder.fit_transform(df[\"label\"])  # Convert crop names to numeric\n",
    "\n",
    "x = df.iloc[:, :-1]  # All columns except the last one (features)\n",
    "y = df.iloc[:, -1]   # Last column (target label)\n",
    "\n",
    "# Split dataset into 90% seen (train+test) and 10% unseen\n",
    "x_seen, x_unseen, y_seen, y_unseen = train_test_split(x, y, test_size=0.10, random_state=42, stratify=y)\n",
    "\n",
    "# Split the 90% seen data into 80% training and 20% testing\n",
    "x_train, x_test, y_train, y_test = train_test_split(x_seen, y_seen, test_size=0.20, random_state=42, stratify=y_seen)\n",
    "\n",
    "# Train a Decision Tree Classifier\n",
    "dtc_model = DecisionTreeClassifier(random_state=42)\n",
    "\n",
    "# Apply 10-Fold Cross-Validation\n",
    "cv = StratifiedKFold(n_splits=10, shuffle=True, random_state=42)\n",
    "cv_scores = cross_val_score(dtc_model, x_train, y_train, cv=cv, scoring=\"accuracy\")\n",
    "\n",
    "print(f\"10-Fold Cross-Validation Accuracy: {np.mean(cv_scores):.2f}\")\n",
    "\n",
    "# Train on full training data & Predict\n",
    "dtc_model.fit(x_train, y_train)\n",
    "y_pred = dtc_model.predict(x_test)\n",
    "\n",
    "# Evaluation Metrics\n",
    "conf_matrix = confusion_matrix(y_test, y_pred)\n",
    "accuracy = accuracy_score(y_test, y_pred)\n",
    "precision = precision_score(y_test, y_pred, average=\"weighted\")\n",
    "recall = recall_score(y_test, y_pred, average=\"weighted\")\n",
    "roc_auc = roc_auc_score(y_test, dtc_model.predict_proba(x_test), multi_class=\"ovr\")\n",
    "\n",
    "# Display results\n",
    "print(\"\\nConfusion Matrix:\\n\", conf_matrix)\n",
    "print(f\"Accuracy: {accuracy:.2f}\")\n",
    "print(f\"Precision: {precision:.2f}\")\n",
    "print(f\"Recall: {recall:.2f}\")\n",
    "print(f\"ROC-AUC Score: {roc_auc:.2f}\")\n",
    "\n",
    "# # Save Model (Optional)\n",
    "# import joblib\n",
    "# joblib.dump(clf, \"decision_tree_model.pkl\")\n"
   ],
   "outputs": [
    {
     "name": "stdout",
     "output_type": "stream",
     "text": [
      "10-Fold Cross-Validation Accuracy: 0.98\n",
      "\n",
      "Confusion Matrix:\n",
      " [[18  0  0  0  0  0  0  0  0  0]\n",
      " [ 0 18  0  0  0  0  0  0  0  0]\n",
      " [ 0  0 18  0  0  0  0  0  0  0]\n",
      " [ 0  0  0 16  0  0  0  0  2  0]\n",
      " [ 0  0  0  0 18  0  0  0  0  0]\n",
      " [ 0  0  0  0  0 18  0  0  0  0]\n",
      " [ 0  0  0  0  0  0 18  0  0  0]\n",
      " [ 0  0  0  0  0  0  0 18  0  0]\n",
      " [ 0  0  0  1  0  0  0  0 17  0]\n",
      " [ 0  0  0  0  0  0  0  0  0 18]]\n",
      "Accuracy: 0.98\n",
      "Precision: 0.98\n",
      "Recall: 0.98\n",
      "ROC-AUC Score: 0.99\n"
     ]
    }
   ],
   "execution_count": 2
  }
 ],
 "metadata": {
  "kernelspec": {
   "display_name": "Python 3",
   "language": "python",
   "name": "python3"
  },
  "language_info": {
   "codemirror_mode": {
    "name": "ipython",
    "version": 2
   },
   "file_extension": ".py",
   "mimetype": "text/x-python",
   "name": "python",
   "nbconvert_exporter": "python",
   "pygments_lexer": "ipython2",
   "version": "2.7.6"
  }
 },
 "nbformat": 4,
 "nbformat_minor": 5
}
