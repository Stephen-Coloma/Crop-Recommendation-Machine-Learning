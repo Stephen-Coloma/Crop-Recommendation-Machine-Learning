{
 "cells": [
  {
   "cell_type": "code",
   "id": "initial_id",
   "metadata": {
    "collapsed": true,
    "ExecuteTime": {
     "end_time": "2025-03-11T11:57:43.254668Z",
     "start_time": "2025-03-11T11:57:43.242657Z"
    }
   },
   "source": [
    "import pandas as pd\n",
    "from sklearn.model_selection import train_test_split, KFold, cross_val_score\n",
    "from sklearn.naive_bayes import GaussianNB\n",
    "from sklearn.metrics import confusion_matrix, accuracy_score, precision_score, recall_score, roc_auc_score\n",
    "from sklearn.model_selection import cross_val_predict"
   ],
   "outputs": [],
   "execution_count": 23
  },
  {
   "metadata": {
    "ExecuteTime": {
     "end_time": "2025-03-11T11:57:43.856918Z",
     "start_time": "2025-03-11T11:57:43.840403Z"
    }
   },
   "cell_type": "code",
   "source": [
    "# load dataset\n",
    "df = pd.read_csv('data/processed-data.csv')\n",
    "\n",
    "# perform one-hot encoding for categorical columns\n",
    "df = pd.get_dummies(df, columns = ['ph', 'rainfall'])\n",
    "\n",
    "# split the dataframe into features (x) and labels (y)\n",
    "x = df.drop(columns = ['label'])\n",
    "y = df['label']"
   ],
   "id": "78eb7683f2849c81",
   "outputs": [],
   "execution_count": 24
  },
  {
   "metadata": {
    "ExecuteTime": {
     "end_time": "2025-03-11T11:57:44.989291Z",
     "start_time": "2025-03-11T11:57:44.982290Z"
    }
   },
   "cell_type": "code",
   "source": [
    "# split the data to 90-10 (90% train and test, 10% unseen)\n",
    "x_seen, x_unseen, y_seen, y_unseen = train_test_split(x, y, test_size = 0.10, random_state = 42)\n",
    "\n",
    "# split the train_test to 80-20 (80% training, 20% testing)\n",
    "x_train, x_test, y_train, y_test = train_test_split(x_seen, y_seen, test_size = 0.20, random_state = 42)"
   ],
   "id": "d2e6ceed806c903e",
   "outputs": [],
   "execution_count": 25
  },
  {
   "metadata": {
    "ExecuteTime": {
     "end_time": "2025-03-11T11:57:46.304571Z",
     "start_time": "2025-03-11T11:57:46.218369Z"
    }
   },
   "cell_type": "code",
   "source": [
    "# instantiate a gaussian naive bayes model\n",
    "model = GaussianNB()\n",
    "\n",
    "# instantiate a 10-fold cross-validation\n",
    "kf = KFold(n_splits = 10, shuffle = True, random_state = 42)\n",
    "\n",
    "# perform cross-validation predictions\n",
    "y_pred_cv = cross_val_predict(model, x_train, y_train, cv = kf)\n",
    "\n",
    "# evaluation metrics\n",
    "conf_matrix = confusion_matrix(y_train, y_pred_cv)\n",
    "accuracy = accuracy_score(y_train, y_pred_cv)\n",
    "precision = precision_score(y_train, y_pred_cv, average = 'weighted')\n",
    "recall = recall_score(y_train, y_pred_cv, average = 'weighted')\n",
    "\n",
    "y_proba_cv = cross_val_predict(model, x_train, y_train, cv = kf, method = 'predict_proba')\n",
    "roc_auc = roc_auc_score(y_train, y_proba_cv, multi_class = 'ovr')\n",
    "\n",
    "# results for the cross validation\n",
    "print('\\nCross Validation Evaluation Results:')\n",
    "print('Confusion Matrix: \\n', conf_matrix)\n",
    "print(f'Accuracy: {accuracy:.4f}')\n",
    "print(f'Precision: {precision:.4f}')\n",
    "print(f'Recall: {recall:.4f}')\n",
    "print(f'ROC AUC: {roc_auc:.4f}')"
   ],
   "id": "2e04a1ed3bdf0b8e",
   "outputs": [
    {
     "name": "stdout",
     "output_type": "stream",
     "text": [
      "\n",
      "Cross Validation Evaluation Results:\n",
      "Confusion Matrix: \n",
      " [[75  0  0  1  0  0  0  0  0  0]\n",
      " [ 2 40  0  0  0  0 26  0  0  1]\n",
      " [ 0  0 76  0  0  0  0  0  0  0]\n",
      " [ 2  0  0 56  0  0  0  0  5  0]\n",
      " [ 0  0  0  0 75  0  0  0  0  0]\n",
      " [ 0  0  0  0  0 75  0  0  0  0]\n",
      " [ 0  0  0  0  0 14 67  0  0  0]\n",
      " [ 0  0  0  0  0  0  0 74  0  0]\n",
      " [ 0  0  0 16  0  0  0  0 47  0]\n",
      " [ 0  0  0  0  0  0  0  0  0 68]]\n",
      "Accuracy: 0.9069\n",
      "Precision: 0.9167\n",
      "Recall: 0.9069\n",
      "ROC AUC: 0.9964\n"
     ]
    }
   ],
   "execution_count": 26
  },
  {
   "metadata": {
    "ExecuteTime": {
     "end_time": "2025-03-11T11:57:59.560277Z",
     "start_time": "2025-03-11T11:57:59.534425Z"
    }
   },
   "cell_type": "code",
   "source": [
    "# train the model\n",
    "model.fit(x_train, y_train)\n",
    "\n",
    "# predict on the test set\n",
    "y_pred_test = model.predict(x_test)\n",
    "\n",
    "# compute metrics\n",
    "conf_matrix = confusion_matrix(y_test, y_pred_test)\n",
    "accuracy = accuracy_score(y_test, y_pred_test)\n",
    "precision = precision_score(y_test, y_pred_test, average = 'weighted')\n",
    "recall = recall_score(y_test, y_pred_test, average = 'weighted')\n",
    "roc_auc = roc_auc_score(y_test, model.predict_proba(x_test), multi_class = 'ovr')\n",
    "\n",
    "# results for the test set\n",
    "print('\\nTest Set Evaluation Results:')\n",
    "print('Confusion Matrix: \\n', conf_matrix)\n",
    "print(f'Accuracy: {accuracy:.4f}')\n",
    "print(f'Precision: {precision:.4f}')\n",
    "print(f'Recall: {recall:.4f}')\n",
    "print(f'ROC AUC: {roc_auc:.4f}')"
   ],
   "id": "298afc29e89ef0da",
   "outputs": [
    {
     "name": "stdout",
     "output_type": "stream",
     "text": [
      "\n",
      "Test Set Evaluation Results:\n",
      "Confusion Matrix: \n",
      " [[15  0  0  0  0  0  0  0  0  0]\n",
      " [ 1 12  0  0  0  0  9  0  0  1]\n",
      " [ 0  0 18  0  0  0  0  0  0  0]\n",
      " [ 0  0  0 24  0  0  0  0  4  0]\n",
      " [ 0  0  0  0 12  0  0  0  0  0]\n",
      " [ 0  0  0  0  0 15  0  0  0  0]\n",
      " [ 0  0  0  0  0  1 12  0  0  0]\n",
      " [ 0  0  0  0  0  0  0 13  0  0]\n",
      " [ 0  0  0  9  0  0  0  0 15  0]\n",
      " [ 0  0  0  0  0  0  0  0  0 19]]\n",
      "Accuracy: 0.8611\n",
      "Precision: 0.8829\n",
      "Recall: 0.8611\n",
      "ROC AUC: 0.9943\n"
     ]
    }
   ],
   "execution_count": 27
  },
  {
   "metadata": {
    "ExecuteTime": {
     "end_time": "2025-03-11T12:01:25.429529Z",
     "start_time": "2025-03-11T12:01:25.411955Z"
    }
   },
   "cell_type": "code",
   "source": [
    "# predict on unseen data\n",
    "y_pred_unseen = model.predict(x_unseen)\n",
    "\n",
    "# compute metrics\n",
    "conf_matrix = confusion_matrix(y_unseen, y_pred_unseen)\n",
    "accuracy = accuracy_score(y_unseen, y_pred_unseen)\n",
    "precision = precision_score(y_unseen, y_pred_unseen, average = 'weighted')\n",
    "recall = recall_score(y_unseen, y_pred_unseen, average = 'weighted')\n",
    "roc_auc = roc_auc_score(y_unseen, model.predict_proba(x_unseen), multi_class = 'ovr')\n",
    "\n",
    "# results for the unseen set\n",
    "print('\\nUnseen Set Evaluation Results:')\n",
    "print('Confusion Matrix: \\n', conf_matrix)\n",
    "print(f'Accuracy: {accuracy:.4f}')\n",
    "print(f'Precision: {precision:.4f}')\n",
    "print(f'Recall: {recall:.4f}')\n",
    "print(f'ROC AUC: {roc_auc:.4f}')"
   ],
   "id": "c55d07e36345d512",
   "outputs": [
    {
     "name": "stdout",
     "output_type": "stream",
     "text": [
      "\n",
      "Unseen Set Evaluation Results:\n",
      "Confusion Matrix: \n",
      " [[ 9  0  0  0  0  0  0  0  0  0]\n",
      " [ 0  5  0  0  0  0  3  0  0  0]\n",
      " [ 0  0  6  0  0  0  0  0  0  0]\n",
      " [ 0  0  0  8  0  0  0  0  1  0]\n",
      " [ 0  0  0  0 13  0  0  0  0  0]\n",
      " [ 0  0  0  0  0 10  0  0  0  0]\n",
      " [ 0  0  0  0  0  3  3  0  0  0]\n",
      " [ 0  0  0  0  0  0  0 13  0  0]\n",
      " [ 0  0  0  2  0  0  0  0 11  0]\n",
      " [ 0  0  0  0  0  0  0  0  0 13]]\n",
      "Accuracy: 0.9100\n",
      "Precision: 0.9181\n",
      "Recall: 0.9100\n",
      "ROC AUC: 0.9960\n"
     ]
    }
   ],
   "execution_count": 28
  }
 ],
 "metadata": {
  "kernelspec": {
   "display_name": "Python 3",
   "language": "python",
   "name": "python3"
  },
  "language_info": {
   "codemirror_mode": {
    "name": "ipython",
    "version": 2
   },
   "file_extension": ".py",
   "mimetype": "text/x-python",
   "name": "python",
   "nbconvert_exporter": "python",
   "pygments_lexer": "ipython2",
   "version": "2.7.6"
  }
 },
 "nbformat": 4,
 "nbformat_minor": 5
}
