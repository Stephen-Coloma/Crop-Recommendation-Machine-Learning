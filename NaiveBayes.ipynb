{
 "cells": [
  {
   "cell_type": "code",
   "id": "initial_id",
   "metadata": {
    "collapsed": true,
    "jupyter": {
     "is_executing": true
    }
   },
   "source": [
    "import pandas as pd\n",
    "import numpy as np\n",
    "from sklearn.model_selection import train_test_split, KFold, cross_val_score\n",
    "from sklearn.naive_bayes import GaussianNB"
   ],
   "outputs": [],
   "execution_count": null
  },
  {
   "metadata": {
    "jupyter": {
     "is_executing": true
    }
   },
   "cell_type": "code",
   "source": [
    "# load dataset\n",
    "df = pd.read_csv('/data/raw-data-crop-recommendation.csv')\n",
    "\n",
    "# split the dataframe into features (x) and labels (y)\n",
    "x = df.drop(columns = ['label'])\n",
    "y = df['label']"
   ],
   "id": "78eb7683f2849c81",
   "outputs": [],
   "execution_count": null
  },
  {
   "metadata": {
    "jupyter": {
     "is_executing": true
    }
   },
   "cell_type": "code",
   "source": [
    "# split the data to 90-10 where 90% is for training and testing while the remaining 10% is for unseen data\n",
    "x_train_test, x_unseen, y_train_test, y_unseen = train_test_split(x, y, test_size = 0.10, random_state = 42)\n",
    "\n",
    "# split the train_test to 80-20 where 80% is for training while the 20% is for testing\n",
    "x_train, x_test, y_train, y_test = train_test_split(x_train_test, y_train_test, test_size = 0.20, random_state = 42)\n",
    "\n",
    "# perform a ten-fold cross-validation\n",
    "kf = KFold(n_splits = 10, shuffle = True, random_state = 42)"
   ],
   "id": "d2e6ceed806c903e",
   "outputs": [],
   "execution_count": null
  },
  {
   "metadata": {
    "jupyter": {
     "is_executing": true
    }
   },
   "cell_type": "code",
   "source": [
    "# instantiate the gaussian naive bayes model\n",
    "model = GaussianNB()\n",
    "\n",
    "# train the model\n",
    "model.fit(x_train, y_train)\n",
    "\n",
    "# predict on the test set\n",
    "y_pred = model.predict(x_test)\n",
    "\n",
    "print(y_pred)"
   ],
   "id": "b241a8cb5319802a",
   "outputs": [],
   "execution_count": null
  }
 ],
 "metadata": {
  "kernelspec": {
   "display_name": "Python 3",
   "language": "python",
   "name": "python3"
  },
  "language_info": {
   "codemirror_mode": {
    "name": "ipython",
    "version": 2
   },
   "file_extension": ".py",
   "mimetype": "text/x-python",
   "name": "python",
   "nbconvert_exporter": "python",
   "pygments_lexer": "ipython2",
   "version": "2.7.6"
  }
 },
 "nbformat": 4,
 "nbformat_minor": 5
}
