{
 "cells": [
  {
   "cell_type": "code",
   "id": "initial_id",
   "metadata": {
    "collapsed": true,
    "ExecuteTime": {
     "end_time": "2025-03-12T08:29:30.056080Z",
     "start_time": "2025-03-12T08:29:30.040649Z"
    }
   },
   "source": [
    "import pandas as pd\n",
    "import numpy as np\n",
    "from sklearn.model_selection import train_test_split, ShuffleSplit, cross_validate\n",
    "from sklearn.naive_bayes import GaussianNB\n",
    "from sklearn.metrics import confusion_matrix, accuracy_score, precision_score, recall_score, roc_auc_score\n",
    "from sklearn.model_selection import cross_val_predict"
   ],
   "outputs": [],
   "execution_count": 53
  },
  {
   "metadata": {
    "ExecuteTime": {
     "end_time": "2025-03-12T08:29:30.882859Z",
     "start_time": "2025-03-12T08:29:30.870651Z"
    }
   },
   "cell_type": "code",
   "source": [
    "# load dataset\n",
    "df = pd.read_csv('data/processed-data.csv')\n",
    "\n",
    "# perform one-hot encoding for categorical columns\n",
    "df = pd.get_dummies(df, columns = ['ph', 'rainfall'])\n",
    "\n",
    "# split the dataframe into features (x) and labels (y)\n",
    "X = df.drop(columns = ['label'])\n",
    "y = df['label']\n",
    "\n",
    "# split the data to 90-10 (90% training and testing, 10% unseen)\n",
    "x_train_test, x_unseen, y_train_test, y_unseen = train_test_split(X, y, test_size = 0.1, random_state = 42)"
   ],
   "id": "b1dc1bd6a011499d",
   "outputs": [],
   "execution_count": 54
  },
  {
   "metadata": {
    "ExecuteTime": {
     "end_time": "2025-03-12T08:29:32.342680Z",
     "start_time": "2025-03-12T08:29:32.199992Z"
    }
   },
   "cell_type": "code",
   "source": [
    "# instantiate a gaussian naive bayes model\n",
    "model = GaussianNB()\n",
    "\n",
    "# instantiate a cross-validation method (80% training, 20% testing)\n",
    "sp = ShuffleSplit(n_splits = 10, test_size = 0.2, random_state = 42)\n",
    "\n",
    "# create a list of metrics needed\n",
    "metrics = ['accuracy', 'precision_macro', 'recall_macro', 'roc_auc_ovr']\n",
    "\n",
    "# perform cross-validation and obtain the metrics\n",
    "metrics_results = cross_validate(model, x_train_test, y_train_test, cv = sp, scoring = metrics, return_estimator = True)\n",
    "\n",
    "# initialize a list to store the confusion matrices\n",
    "conf_matrices = []\n",
    "\n",
    "# obtain the confusion matrices for all folds\n",
    "for estimator, (_, test_index) in zip(metrics_results['estimator'], sp.split(x_train_test, y_train_test)):\n",
    "    # predict using the test set\n",
    "    y_pred = estimator.predict(x_train_test.iloc[test_index])\n",
    "\n",
    "    # compute the confusion matrix for this iteration\n",
    "    conf_matrix = confusion_matrix(y_train_test.iloc[test_index], y_pred)\n",
    "\n",
    "    # append the matrix to the list\n",
    "    conf_matrices.append(conf_matrix)\n",
    "\n",
    "# compute the average confusion matrix\n",
    "conf_matrix_avg = np.mean(conf_matrices, axis = 0)\n",
    "\n",
    "# results for the cross-validation\n",
    "print('\\nCross-Validation Evaluation Results:')\n",
    "print('Confusion Matrix: \\n', conf_matrix_avg)\n",
    "print(f'Accuracy: {metrics_results[\"test_accuracy\"].mean():.4f}')\n",
    "print(f'Precision: {metrics_results[\"test_precision_macro\"].mean():.4f}')\n",
    "print(f'Recall: {metrics_results[\"test_recall_macro\"].mean():.4f}')\n",
    "print(f'ROC AUC: {metrics_results[\"test_roc_auc_ovr\"].mean():.4f}')"
   ],
   "id": "41bca867707313e6",
   "outputs": [
    {
     "name": "stdout",
     "output_type": "stream",
     "text": [
      "\n",
      "Cross-Validation Evaluation Results:\n",
      "Confusion Matrix: \n",
      " [[16.6  0.   0.   0.4  0.   0.   0.   0.   0.   0. ]\n",
      " [ 0.1 11.7  0.   0.   0.   0.   7.   0.   0.   0.5]\n",
      " [ 0.   0.  19.2  0.   0.   0.   0.   0.   0.   0. ]\n",
      " [ 0.7  0.   0.  15.8  0.   0.   0.   0.   2.   0. ]\n",
      " [ 0.   0.   0.   0.  16.6  0.   0.   0.   0.   0. ]\n",
      " [ 0.   0.   0.   0.   0.  18.7  0.   0.   0.   0. ]\n",
      " [ 0.   0.   0.   0.   0.   3.1 15.7  0.   0.   0. ]\n",
      " [ 0.   0.   0.   0.   0.   0.   0.  15.4  0.   0. ]\n",
      " [ 0.   0.   0.   5.9  0.   0.   0.   0.  11.8  0. ]\n",
      " [ 0.   0.   0.   0.   0.   0.   0.   0.   0.  18.8]]\n",
      "Accuracy: 0.8906\n",
      "Precision: 0.9065\n",
      "Recall: 0.8947\n",
      "ROC AUC: 0.9953\n"
     ]
    }
   ],
   "execution_count": 55
  },
  {
   "metadata": {
    "ExecuteTime": {
     "end_time": "2025-03-12T08:29:34.394713Z",
     "start_time": "2025-03-12T08:29:34.366699Z"
    }
   },
   "cell_type": "code",
   "source": [
    "# fit the model\n",
    "model.fit(x_train_test, y_train_test)\n",
    "\n",
    "# predict on unseen data\n",
    "y_pred = model.predict(x_unseen)\n",
    "\n",
    "# compute metrics\n",
    "conf_matrix = confusion_matrix(y_unseen, y_pred)\n",
    "accuracy = accuracy_score(y_unseen, y_pred)\n",
    "precision = precision_score(y_unseen, y_pred, average = 'weighted')\n",
    "recall = recall_score(y_unseen, y_pred, average = 'weighted')\n",
    "roc_auc = roc_auc_score(y_unseen, model.predict_proba(x_unseen), multi_class='ovr')\n",
    "\n",
    "# results for the unseen set\n",
    "print('\\nUnseen Set Evaluation Results:')\n",
    "print('Confusion Matrix: \\n', conf_matrix)\n",
    "print(f'Accuracy: {accuracy:.4f}')\n",
    "print(f'Precision: {precision:.4f}')\n",
    "print(f'Recall: {recall:.4f}')\n",
    "print(f'ROC AUC: {roc_auc:.4f}')"
   ],
   "id": "6b937dee68edc13e",
   "outputs": [
    {
     "name": "stdout",
     "output_type": "stream",
     "text": [
      "\n",
      "Unseen Set Evaluation Results:\n",
      "Confusion Matrix: \n",
      " [[ 9  0  0  0  0  0  0  0  0  0]\n",
      " [ 0  5  0  0  0  0  3  0  0  0]\n",
      " [ 0  0  6  0  0  0  0  0  0  0]\n",
      " [ 0  0  0  8  0  0  0  0  1  0]\n",
      " [ 0  0  0  0 13  0  0  0  0  0]\n",
      " [ 0  0  0  0  0 10  0  0  0  0]\n",
      " [ 0  0  0  0  0  3  3  0  0  0]\n",
      " [ 0  0  0  0  0  0  0 13  0  0]\n",
      " [ 0  0  0  2  0  0  0  0 11  0]\n",
      " [ 0  0  0  0  0  0  0  0  0 13]]\n",
      "Accuracy: 0.9100\n",
      "Precision: 0.9181\n",
      "Recall: 0.9100\n",
      "ROC AUC: 0.9954\n"
     ]
    }
   ],
   "execution_count": 56
  }
 ],
 "metadata": {
  "kernelspec": {
   "display_name": "Python 3",
   "language": "python",
   "name": "python3"
  },
  "language_info": {
   "codemirror_mode": {
    "name": "ipython",
    "version": 2
   },
   "file_extension": ".py",
   "mimetype": "text/x-python",
   "name": "python",
   "nbconvert_exporter": "python",
   "pygments_lexer": "ipython2",
   "version": "2.7.6"
  }
 },
 "nbformat": 4,
 "nbformat_minor": 5
}
