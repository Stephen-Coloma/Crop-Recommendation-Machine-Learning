{
 "cells": [
  {
   "cell_type": "code",
   "id": "initial_id",
   "metadata": {
    "collapsed": true,
    "ExecuteTime": {
     "end_time": "2025-03-10T14:02:03.997956Z",
     "start_time": "2025-03-10T14:02:03.989393Z"
    }
   },
   "source": [
    "import pandas as pd\n",
    "import numpy as np\n",
    "from sklearn.model_selection import train_test_split, KFold, cross_val_score\n",
    "from sklearn.naive_bayes import GaussianNB\n",
    "from sklearn.metrics import confusion_matrix, accuracy_score, precision_score, recall_score, roc_auc_score\n",
    "from sklearn.model_selection import cross_val_predict"
   ],
   "outputs": [],
   "execution_count": 4
  },
  {
   "metadata": {
    "ExecuteTime": {
     "end_time": "2025-03-10T14:04:16.904441Z",
     "start_time": "2025-03-10T14:04:16.885268Z"
    }
   },
   "cell_type": "code",
   "source": [
    "# load dataset\n",
    "#df = pd.read_csv('/data/raw-data-crop-recommendation.csv')\n",
    "df = pd.read_csv('C:/Users/jerwi/Midterm-Summative-Activity/data/raw-data-crop-recommendation.csv')\n",
    "# split the dataframe into features (x) and labels (y)\n",
    "x = df.drop(columns = ['label'])\n",
    "y = df['label']"
   ],
   "id": "78eb7683f2849c81",
   "outputs": [],
   "execution_count": 7
  },
  {
   "metadata": {
    "ExecuteTime": {
     "end_time": "2025-03-10T14:05:38.416543Z",
     "start_time": "2025-03-10T14:05:38.398664Z"
    }
   },
   "cell_type": "code",
   "source": [
    "# split the data to 90-10 where 90% is for training and testing while the remaining 10% is for unseen data\n",
    "x_train_test, x_unseen, y_train_test, y_unseen = train_test_split(x, y, test_size = 0.10, random_state = 42)\n",
    "\n",
    "# split the train_test to 80-20 where 80% is for training while the 20% is for testing\n",
    "x_train, x_test, y_train, y_test = train_test_split(x_train_test, y_train_test, test_size = 0.20, random_state = 42)\n",
    "\n",
    "# perform a ten-fold cross-validation\n",
    "kf = KFold(n_splits = 10, shuffle = True, random_state = 42)"
   ],
   "id": "d2e6ceed806c903e",
   "outputs": [],
   "execution_count": 9
  },
  {
   "metadata": {
    "ExecuteTime": {
     "end_time": "2025-03-10T14:05:46.576668Z",
     "start_time": "2025-03-10T14:05:46.359877Z"
    }
   },
   "cell_type": "code",
   "source": [
    "# instantiate the gaussian naive bayes model\n",
    "model = GaussianNB()\n",
    "\n",
    "# train the model\n",
    "model.fit(x_train, y_train)\n",
    "\n",
    "# predict on the test set\n",
    "y_pred = model.predict(x_test)\n",
    "\n",
    "print(y_pred)"
   ],
   "id": "b241a8cb5319802a",
   "outputs": [
    {
     "name": "stdout",
     "output_type": "stream",
     "text": [
      "['rice' 'maize' 'lentil' 'watermelon' 'mungbean' 'watermelon' 'pigeonpeas'\n",
      " 'kidneybeans' 'pigeonpeas' 'chickpea' 'mothbeans' 'coconut' 'maize'\n",
      " 'grapes' 'mungbean' 'lentil' 'mango' 'coconut' 'muskmelon' 'muskmelon'\n",
      " 'lentil' 'cotton' 'mango' 'cotton' 'mango' 'orange' 'pomegranate' 'jute'\n",
      " 'coffee' 'watermelon' 'pigeonpeas' 'banana' 'watermelon' 'cotton'\n",
      " 'coffee' 'mango' 'orange' 'cotton' 'coffee' 'watermelon' 'banana'\n",
      " 'lentil' 'jute' 'lentil' 'banana' 'pomegranate' 'grapes' 'pomegranate'\n",
      " 'muskmelon' 'mango' 'mothbeans' 'coffee' 'pigeonpeas' 'coconut' 'jute'\n",
      " 'rice' 'maize' 'muskmelon' 'chickpea' 'grapes' 'orange' 'papaya'\n",
      " 'pigeonpeas' 'pigeonpeas' 'pomegranate' 'coffee' 'rice' 'banana'\n",
      " 'watermelon' 'lentil' 'watermelon' 'apple' 'muskmelon' 'papaya' 'papaya'\n",
      " 'chickpea' 'coconut' 'maize' 'pomegranate' 'maize' 'rice' 'muskmelon'\n",
      " 'kidneybeans' 'chickpea' 'blackgram' 'orange' 'watermelon' 'pigeonpeas'\n",
      " 'pomegranate' 'lentil' 'pigeonpeas' 'apple' 'blackgram' 'coconut'\n",
      " 'pigeonpeas' 'lentil' 'maize' 'watermelon' 'mango' 'orange' 'apple'\n",
      " 'rice' 'papaya' 'muskmelon' 'lentil' 'coconut' 'muskmelon' 'apple'\n",
      " 'banana' 'muskmelon' 'papaya' 'mango' 'papaya' 'mothbeans' 'grapes'\n",
      " 'papaya' 'rice' 'papaya' 'cotton' 'mothbeans' 'coffee' 'watermelon'\n",
      " 'coffee' 'apple' 'blackgram' 'coffee' 'kidneybeans' 'cotton' 'mungbean'\n",
      " 'cotton' 'blackgram' 'pomegranate' 'apple' 'pomegranate' 'mango' 'banana'\n",
      " 'coffee' 'pomegranate' 'grapes' 'coconut' 'pomegranate' 'chickpea'\n",
      " 'pigeonpeas' 'maize' 'pigeonpeas' 'grapes' 'banana' 'kidneybeans'\n",
      " 'muskmelon' 'kidneybeans' 'rice' 'mango' 'kidneybeans' 'rice' 'cotton'\n",
      " 'kidneybeans' 'cotton' 'orange' 'blackgram' 'papaya' 'rice' 'cotton'\n",
      " 'blackgram' 'mungbean' 'pomegranate' 'lentil' 'muskmelon' 'cotton'\n",
      " 'apple' 'apple' 'mungbean' 'jute' 'mungbean' 'muskmelon' 'coconut'\n",
      " 'watermelon' 'lentil' 'cotton' 'chickpea' 'orange' 'pomegranate'\n",
      " 'kidneybeans' 'muskmelon' 'pomegranate' 'mango' 'maize' 'coffee'\n",
      " 'muskmelon' 'kidneybeans' 'papaya' 'banana' 'coffee' 'muskmelon' 'maize'\n",
      " 'apple' 'mothbeans' 'rice' 'mothbeans' 'watermelon' 'pomegranate' 'rice'\n",
      " 'muskmelon' 'apple' 'muskmelon' 'blackgram' 'banana' 'cotton' 'muskmelon'\n",
      " 'grapes' 'pomegranate' 'mungbean' 'muskmelon' 'jute' 'jute' 'coffee'\n",
      " 'kidneybeans' 'jute' 'kidneybeans' 'blackgram' 'lentil' 'maize'\n",
      " 'mungbean' 'mothbeans' 'coffee' 'mothbeans' 'orange' 'kidneybeans'\n",
      " 'blackgram' 'grapes' 'coffee' 'pigeonpeas' 'apple' 'grapes' 'cotton'\n",
      " 'mungbean' 'pomegranate' 'papaya' 'chickpea' 'jute' 'banana' 'coconut'\n",
      " 'lentil' 'orange' 'pigeonpeas' 'pomegranate' 'pomegranate' 'coffee'\n",
      " 'lentil' 'coffee' 'papaya' 'mungbean' 'mungbean' 'jute' 'mothbeans'\n",
      " 'cotton' 'watermelon' 'kidneybeans' 'orange' 'mango' 'mungbean' 'coffee'\n",
      " 'grapes' 'mungbean' 'lentil' 'cotton' 'watermelon' 'mango' 'orange'\n",
      " 'papaya' 'jute' 'apple' 'banana' 'chickpea' 'lentil' 'coffee' 'jute'\n",
      " 'apple' 'watermelon' 'chickpea' 'maize' 'rice' 'apple' 'watermelon'\n",
      " 'grapes' 'orange' 'blackgram' 'pomegranate' 'watermelon' 'rice' 'coffee'\n",
      " 'chickpea' 'maize' 'coconut' 'cotton' 'apple' 'watermelon' 'chickpea'\n",
      " 'mango' 'maize' 'blackgram' 'lentil' 'coconut' 'banana' 'chickpea'\n",
      " 'watermelon' 'jute' 'coffee' 'mothbeans' 'cotton' 'kidneybeans' 'coconut'\n",
      " 'lentil' 'grapes' 'lentil' 'pomegranate' 'muskmelon' 'pigeonpeas' 'jute'\n",
      " 'muskmelon' 'orange' 'apple' 'cotton' 'mungbean' 'watermelon' 'papaya'\n",
      " 'watermelon' 'banana' 'watermelon' 'chickpea' 'jute' 'banana' 'lentil'\n",
      " 'grapes' 'jute' 'kidneybeans' 'mungbean' 'coffee' 'jute' 'blackgram'\n",
      " 'chickpea' 'kidneybeans' 'chickpea' 'coffee' 'pomegranate' 'mungbean'\n",
      " 'pomegranate' 'mothbeans' 'pomegranate' 'mango' 'grapes' 'rice'\n",
      " 'pigeonpeas' 'pomegranate' 'blackgram' 'pigeonpeas' 'chickpea' 'cotton'\n",
      " 'pomegranate' 'kidneybeans' 'banana' 'blackgram' 'mango' 'pomegranate'\n",
      " 'kidneybeans' 'lentil' 'papaya' 'grapes' 'mothbeans' 'pomegranate'\n",
      " 'pigeonpeas' 'maize' 'banana' 'apple' 'pigeonpeas' 'grapes' 'watermelon'\n",
      " 'grapes' 'kidneybeans' 'kidneybeans' 'kidneybeans' 'lentil' 'apple'\n",
      " 'pomegranate' 'grapes' 'mothbeans' 'watermelon' 'kidneybeans' 'lentil'\n",
      " 'orange' 'apple' 'mungbean' 'coconut' 'muskmelon' 'banana' 'jute'\n",
      " 'papaya']\n"
     ]
    }
   ],
   "execution_count": 10
  },
  {
   "metadata": {
    "ExecuteTime": {
     "end_time": "2025-03-10T14:08:04.040259Z",
     "start_time": "2025-03-10T14:08:03.884009Z"
    }
   },
   "cell_type": "code",
   "source": [
    "#ten-fold cross validation\n",
    "y_pred_cv = cross_val_predict(model, x_train, y_train, cv=kf)\n",
    "print(y_pred_cv)"
   ],
   "id": "6fd5969df3c0ede",
   "outputs": [
    {
     "name": "stdout",
     "output_type": "stream",
     "text": [
      "['grapes' 'papaya' 'grapes' ... 'cotton' 'kidneybeans' 'rice']\n"
     ]
    }
   ],
   "execution_count": 13
  },
  {
   "metadata": {
    "ExecuteTime": {
     "end_time": "2025-03-10T14:10:57.713376Z",
     "start_time": "2025-03-10T14:10:57.691329Z"
    }
   },
   "cell_type": "code",
   "source": [
    "#Confusion Matrix\n",
    "conf_matrix_cv = confusion_matrix(y_train, y_pred_cv)\n",
    "print(\"Confusion Matrix:\\n\", conf_matrix_cv)"
   ],
   "id": "729e8662a152f80f",
   "outputs": [
    {
     "name": "stdout",
     "output_type": "stream",
     "text": [
      "Confusion Matrix:\n",
      " [[72  0  0  0  0  0  0  0  0  0  0  0  0  0  0  0  0  0  0  0  0  0]\n",
      " [ 0 71  0  0  0  0  0  0  0  0  0  0  0  0  0  0  0  0  0  0  0  0]\n",
      " [ 0  0 73  0  0  0  0  0  0  0  0  0  0  0  0  0  0  0  0  0  0  0]\n",
      " [ 0  0  0 71  0  0  0  0  0  0  0  0  0  0  0  0  0  0  0  0  0  0]\n",
      " [ 0  0  0  0 72  0  0  0  0  0  0  0  0  0  0  0  0  0  0  0  0  0]\n",
      " [ 0  0  0  0  0 69  0  0  0  0  0  0  0  0  0  0  0  0  0  0  0  0]\n",
      " [ 0  0  0  0  0  0 74  0  0  0  0  0  0  0  0  0  0  0  0  0  0  0]\n",
      " [ 0  0  0  0  0  0  0 74  0  0  0  0  0  0  0  0  0  0  0  0  0  0]\n",
      " [ 0  0  0  0  0  0  0  0 72  0  0  0  0  0  0  0  0  0  0  0  1  0]\n",
      " [ 0  0  0  0  0  0  0  0  0 65  0  0  0  0  0  0  0  0  0  0  0  0]\n",
      " [ 0  0  0  0  0  0  0  0  0  0 70  0  0  0  0  0  0  0  0  0  0  0]\n",
      " [ 0  0  0  0  0  0  1  0  0  0  0 73  0  0  0  0  0  0  0  0  0  0]\n",
      " [ 0  0  0  0  0  0  0  0  0  0  0  0 81  0  0  0  0  0  0  0  0  0]\n",
      " [ 0  0  0  0  0  0  0  0  0  0  0  0  0 76  0  0  0  0  0  0  0  0]\n",
      " [ 0  0  0  0  0  0  0  0  0  0  0  0  0  0 73  0  0  0  0  0  0  0]\n",
      " [ 0  0  0  0  0  0  0  0  0  0  0  0  0  0  0 71  0  0  0  0  0  0]\n",
      " [ 0  0  0  0  0  0  0  0  0  0  0  0  0  0  0  0 77  0  0  0  0  0]\n",
      " [ 0  0  0  0  0  0  0  0  0  0  0  0  0  0  0  0  0 72  0  0  0  0]\n",
      " [ 0  0  0  0  0  0  0  0  0  0  0  0  0  0  0  0  0  0 70  0  0  0]\n",
      " [ 0  0  0  0  0  0  0  0  0  0  0  0  0  0  0  0  0  0  0 62  0  0]\n",
      " [ 0  0  0  0  0  0  0  0  5  0  0  0  0  0  0  0  0  0  0  0 72  0]\n",
      " [ 0  0  0  0  0  0  0  0  0  0  0  0  0  0  0  0  0  0  0  0  0 67]]\n"
     ]
    }
   ],
   "execution_count": 16
  },
  {
   "metadata": {
    "ExecuteTime": {
     "end_time": "2025-03-10T14:11:08.391162Z",
     "start_time": "2025-03-10T14:11:08.377847Z"
    }
   },
   "cell_type": "code",
   "source": [
    "#Accuracy Metric\n",
    "accuracy = accuracy_score(y_train, y_pred_cv)\n",
    "print(\"Accuracy:\", accuracy)"
   ],
   "id": "f345dd5c74a7896c",
   "outputs": [
    {
     "name": "stdout",
     "output_type": "stream",
     "text": [
      "Accuracy: 0.9955808080808081\n"
     ]
    }
   ],
   "execution_count": 17
  },
  {
   "metadata": {
    "ExecuteTime": {
     "end_time": "2025-03-10T14:11:17.770099Z",
     "start_time": "2025-03-10T14:11:17.748677Z"
    }
   },
   "cell_type": "code",
   "source": [
    "#Precision Metric\n",
    "precision = precision_score(y_train, y_pred_cv, average='weighted')\n",
    "print(\"Precision:\", precision)"
   ],
   "id": "8da30ec29637515a",
   "outputs": [
    {
     "name": "stdout",
     "output_type": "stream",
     "text": [
      "Precision: 0.9957186105255843\n"
     ]
    }
   ],
   "execution_count": 18
  },
  {
   "metadata": {
    "ExecuteTime": {
     "end_time": "2025-03-10T14:11:28.614757Z",
     "start_time": "2025-03-10T14:11:28.593805Z"
    }
   },
   "cell_type": "code",
   "source": [
    "#Recall Metric\n",
    "recall = recall_score(y_train, y_pred_cv, average='weighted')\n",
    "print(\"Recall:\", recall)"
   ],
   "id": "5333865bb21e6bcf",
   "outputs": [
    {
     "name": "stdout",
     "output_type": "stream",
     "text": [
      "Recall: 0.9955808080808081\n"
     ]
    }
   ],
   "execution_count": 19
  },
  {
   "metadata": {
    "ExecuteTime": {
     "end_time": "2025-03-10T14:15:59.798056Z",
     "start_time": "2025-03-10T14:15:59.619609Z"
    }
   },
   "cell_type": "code",
   "source": [
    "# ROC-AUC Metric\n",
    "\n",
    "# Get probability estimates instead of class labels\n",
    "y_pred_cv_proba = cross_val_predict(model, x_train, y_train, cv=kf, method=\"predict_proba\")\n",
    "\n",
    "# Compute ROC-AUC Score\n",
    "roc_auc = roc_auc_score(y_train, y_pred_cv_proba, multi_class='ovr')\n",
    "print(\"ROC-AUC Score:\", roc_auc)"
   ],
   "id": "77882fe31ff60c99",
   "outputs": [
    {
     "name": "stdout",
     "output_type": "stream",
     "text": [
      "ROC-AUC Score: 0.999961376578484\n"
     ]
    }
   ],
   "execution_count": 28
  }
 ],
 "metadata": {
  "kernelspec": {
   "display_name": "Python 3",
   "language": "python",
   "name": "python3"
  },
  "language_info": {
   "codemirror_mode": {
    "name": "ipython",
    "version": 2
   },
   "file_extension": ".py",
   "mimetype": "text/x-python",
   "name": "python",
   "nbconvert_exporter": "python",
   "pygments_lexer": "ipython2",
   "version": "2.7.6"
  }
 },
 "nbformat": 4,
 "nbformat_minor": 5
}
