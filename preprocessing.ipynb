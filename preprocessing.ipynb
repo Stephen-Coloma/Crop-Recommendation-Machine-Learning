{
 "cells": [
  {
   "metadata": {
    "ExecuteTime": {
     "end_time": "2025-03-11T07:42:39.746975Z",
     "start_time": "2025-03-11T07:42:39.733741Z"
    }
   },
   "cell_type": "code",
   "source": [
    "import numpy as np\n",
    "import pandas as pd"
   ],
   "id": "7355181b6b6d0cba",
   "outputs": [],
   "execution_count": 27
  },
  {
   "cell_type": "code",
   "id": "initial_id",
   "metadata": {
    "collapsed": true,
    "ExecuteTime": {
     "end_time": "2025-03-11T07:42:41.315664Z",
     "start_time": "2025-03-11T07:42:41.296914Z"
    }
   },
   "source": [
    "df = pd.read_csv(\"data/raw-data-crop-recommendation.csv\")\n",
    "\n",
    "# list of crops to be retained\n",
    "selected_crops = [\n",
    "    \"rice\", \"maize\", \"kidneybeans\", \"lentil\", \"grapes\", \n",
    "    \"watermelon\", \"muskmelon\", \"cotton\", \"jute\", \"coffee\"\n",
    "]\n",
    "\n",
    "# filter the dataframe\n",
    "df = df[df['label'].isin(selected_crops)]"
   ],
   "outputs": [],
   "execution_count": 28
  },
  {
   "metadata": {
    "ExecuteTime": {
     "end_time": "2025-03-11T07:42:42.887275Z",
     "start_time": "2025-03-11T07:42:42.878627Z"
    }
   },
   "cell_type": "code",
   "source": [
    "# define the bins and labels\n",
    "bins = [0.0, 0.1, 1.0, 11.0, 31.0, 71.0, 151.0, float('inf')]\n",
    "labels = ['No Rain', 'Very Light Rain', 'Light Rain', 'Moderate Rain', 'Heavy Rain', 'Very Heavy Rain', 'Extremely Heavy Rain']\n",
    "\n",
    "# convert the numerical rainfall into its categorical value\n",
    "df['rainfall'] = pd.cut(df['rainfall'], bins=bins, labels=labels)"
   ],
   "id": "8001ad84f415357",
   "outputs": [],
   "execution_count": 29
  },
  {
   "metadata": {
    "ExecuteTime": {
     "end_time": "2025-03-11T07:42:44.135384Z",
     "start_time": "2025-03-11T07:42:44.125230Z"
    }
   },
   "cell_type": "code",
   "source": [
    "# rename vague columns\n",
    "df = df.rename(columns={\n",
    "    \"N\": \"Nitrogen Content\",\n",
    "    \"P\": \"Phosphorous Content\",\n",
    "    \"K\": \"Potassium Content\"\n",
    "})\n",
    "\n",
    "# obtain numerical data columns\n",
    "numerical_columns = df.select_dtypes(include=[np.number]).columns\n",
    "\n",
    "# normalize the values\n",
    "df[numerical_columns] = (df[numerical_columns] - df[numerical_columns].min()) / (df[numerical_columns].max() - df[numerical_columns].min())"
   ],
   "id": "7db9332f5ada0f2a",
   "outputs": [],
   "execution_count": 30
  },
  {
   "metadata": {
    "ExecuteTime": {
     "end_time": "2025-03-11T07:41:26.672678Z",
     "start_time": "2025-03-11T07:41:26.662818Z"
    }
   },
   "cell_type": "code",
   "source": [
    "# save final dataframe to an external csv file\n",
    "df.to_csv('data/processed-data.csv', index = False)\n",
    "print('processed data saved to data/processed-data.csv')"
   ],
   "id": "fd5c098f2e5d5188",
   "outputs": [],
   "execution_count": 26
  }
 ],
 "metadata": {
  "kernelspec": {
   "display_name": "Python 3",
   "language": "python",
   "name": "python3"
  },
  "language_info": {
   "codemirror_mode": {
    "name": "ipython",
    "version": 2
   },
   "file_extension": ".py",
   "mimetype": "text/x-python",
   "name": "python",
   "nbconvert_exporter": "python",
   "pygments_lexer": "ipython2",
   "version": "2.7.6"
  }
 },
 "nbformat": 4,
 "nbformat_minor": 5
}
