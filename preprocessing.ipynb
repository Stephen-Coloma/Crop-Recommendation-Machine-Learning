{
 "cells": [
  {
   "cell_type": "code",
   "id": "initial_id",
   "metadata": {
    "collapsed": true,
    "ExecuteTime": {
     "end_time": "2025-03-09T14:08:09.874556Z",
     "start_time": "2025-03-09T14:08:09.337306Z"
    }
   },
   "source": [
    "import pandas as pd\n",
    "\n",
    "file_path = \"data/raw-data-crop-recommendation.csv\"\n",
    "df = pd.read_csv(file_path)\n",
    "\n",
    "selected_crops = [\n",
    "    \"rice\", \"maize\", \"kidneybeans\", \"lentil\", \"grapes\", \n",
    "    \"watermelon\", \"muskmelon\", \"cotton\", \"jute\", \"coffee\"\n",
    "]\n",
    "\n",
    "filtered_df = df[df['label'].isin(selected_crops)]\n",
    "\n",
    "filtered_file_path = \"data/filtered-data-crop-recommendation.csv\"\n",
    "filtered_df.to_csv(filtered_file_path, index=False)\n",
    "\n",
    "print(f\"Filtered dataset saved to: {filtered_file_path}\")"
   ],
   "outputs": [
    {
     "name": "stdout",
     "output_type": "stream",
     "text": [
      "Filtered dataset saved to: data/filtered-data-crop-recommendation.csv\n"
     ]
    }
   ],
   "execution_count": 4
  },
  {
   "metadata": {},
   "cell_type": "code",
   "outputs": [],
   "execution_count": null,
   "source": "",
   "id": "7db9332f5ada0f2a"
  }
 ],
 "metadata": {
  "kernelspec": {
   "display_name": "Python 3",
   "language": "python",
   "name": "python3"
  },
  "language_info": {
   "codemirror_mode": {
    "name": "ipython",
    "version": 2
   },
   "file_extension": ".py",
   "mimetype": "text/x-python",
   "name": "python",
   "nbconvert_exporter": "python",
   "pygments_lexer": "ipython2",
   "version": "2.7.6"
  }
 },
 "nbformat": 4,
 "nbformat_minor": 5
}
