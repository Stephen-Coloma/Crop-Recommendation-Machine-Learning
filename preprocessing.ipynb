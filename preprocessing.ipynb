{
 "cells": [
  {
   "metadata": {
    "ExecuteTime": {
     "end_time": "2025-03-11T08:19:34.414075Z",
     "start_time": "2025-03-11T08:19:34.407573Z"
    }
   },
   "cell_type": "code",
   "source": [
    "import numpy as np\n",
    "import pandas as pd"
   ],
   "id": "7355181b6b6d0cba",
   "outputs": [],
   "execution_count": 47
  },
  {
   "cell_type": "code",
   "id": "initial_id",
   "metadata": {
    "collapsed": true,
    "ExecuteTime": {
     "end_time": "2025-03-11T08:19:35.107495Z",
     "start_time": "2025-03-11T08:19:35.088128Z"
    }
   },
   "source": [
    "df = pd.read_csv(\"data/raw-data-crop-recommendation.csv\")\n",
    "\n",
    "# list of crops to be retained\n",
    "selected_crops = [\n",
    "    \"rice\", \"maize\", \"kidneybeans\", \"lentil\", \"grapes\", \n",
    "    \"watermelon\", \"muskmelon\", \"cotton\", \"jute\", \"coffee\"\n",
    "]\n",
    "\n",
    "# filter the dataframe\n",
    "df = df[df['label'].isin(selected_crops)]"
   ],
   "outputs": [],
   "execution_count": 48
  },
  {
   "metadata": {
    "ExecuteTime": {
     "end_time": "2025-03-11T08:19:36.362890Z",
     "start_time": "2025-03-11T08:19:36.356892Z"
    }
   },
   "cell_type": "code",
   "source": [
    "# define the bins and labels\n",
    "ph_bins = [0.0, 3.5, 4.5, 5.1, 5.6, 6.1, 6.6, 7.4, 7.9, 8.5, 9.0, 14.0]\n",
    "ph_labels = ['Ultra Acid', 'Extremely Acid', 'Very Strongly Acid', 'Strongly Acid', 'Moderately Acid', 'Slightly Acid', 'Neutral', 'Slightly Alkaline', 'Moderately Alkaline', 'Strongly Alkaline', 'Very Strongly Alkaline']\n",
    "\n",
    "rainfall_bins = [0.0, 0.1, 1.0, 11.0, 31.0, 71.0, 151.0, float('inf')]\n",
    "rainfall_labels = ['No Rain', 'Very Light Rain', 'Light Rain', 'Moderate Rain', 'Heavy Rain', 'Very Heavy Rain', 'Extremely Heavy Rain']\n",
    "\n",
    "# convert the numerical ph into its categorical value\n",
    "df['ph'] = pd.cut(df['ph'], bins=ph_bins, labels=ph_labels)\n",
    "\n",
    "# convert the numerical rainfall into its categorical value\n",
    "df['rainfall'] = pd.cut(df['rainfall'], bins=rainfall_bins, labels=rainfall_labels)"
   ],
   "id": "8001ad84f415357",
   "outputs": [],
   "execution_count": 49
  },
  {
   "metadata": {
    "ExecuteTime": {
     "end_time": "2025-03-11T08:19:37.740620Z",
     "start_time": "2025-03-11T08:19:37.728615Z"
    }
   },
   "cell_type": "code",
   "source": [
    "# rename vague columns\n",
    "df = df.rename(columns={\n",
    "    \"N\": \"Nitrogen Content\",\n",
    "    \"P\": \"Phosphorous Content\",\n",
    "    \"K\": \"Potassium Content\"\n",
    "})\n",
    "\n",
    "# obtain numerical data columns\n",
    "numerical_columns = df.select_dtypes(include=[np.number]).columns\n",
    "\n",
    "# normalize the values\n",
    "df[numerical_columns] = (df[numerical_columns] - df[numerical_columns].min()) / (df[numerical_columns].max() - df[numerical_columns].min())"
   ],
   "id": "7db9332f5ada0f2a",
   "outputs": [],
   "execution_count": 50
  },
  {
   "metadata": {
    "ExecuteTime": {
     "end_time": "2025-03-11T08:19:38.749677Z",
     "start_time": "2025-03-11T08:19:38.735168Z"
    }
   },
   "cell_type": "code",
   "source": [
    "# save final dataframe to an external csv file\n",
    "df.to_csv('data/processed-data.csv', index = False)\n",
    "print('processed data saved to data/processed-data.csv')"
   ],
   "id": "fd5c098f2e5d5188",
   "outputs": [
    {
     "name": "stdout",
     "output_type": "stream",
     "text": [
      "processed data saved to data/processed-data.csv\n"
     ]
    }
   ],
   "execution_count": 51
  }
 ],
 "metadata": {
  "kernelspec": {
   "display_name": "Python 3",
   "language": "python",
   "name": "python3"
  },
  "language_info": {
   "codemirror_mode": {
    "name": "ipython",
    "version": 2
   },
   "file_extension": ".py",
   "mimetype": "text/x-python",
   "name": "python",
   "nbconvert_exporter": "python",
   "pygments_lexer": "ipython2",
   "version": "2.7.6"
  }
 },
 "nbformat": 4,
 "nbformat_minor": 5
}
