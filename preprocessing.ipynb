{
 "cells": [
  {
   "cell_type": "code",
   "id": "initial_id",
   "metadata": {
    "collapsed": true,
    "ExecuteTime": {
     "end_time": "2025-03-10T12:04:47.975950Z",
     "start_time": "2025-03-10T12:04:47.691786Z"
    }
   },
   "source": [
    "import pandas as pd\n",
    "\n",
    "file_path = \"data/raw-data-crop-recommendation.csv\"\n",
    "df = pd.read_csv(file_path)\n",
    "\n",
    "selected_crops = [\n",
    "    \"rice\", \"maize\", \"kidneybeans\", \"lentil\", \"grapes\", \n",
    "    \"watermelon\", \"muskmelon\", \"cotton\", \"jute\", \"coffee\"\n",
    "]\n",
    "\n",
    "filtered_df = df[df['label'].isin(selected_crops)]\n",
    "\n",
    "filtered_file_path = \"data/filtered-data-crop-recommendation.csv\"\n",
    "filtered_df.to_csv(filtered_file_path, index=False)\n",
    "\n",
    "print(f\"Filtered dataset saved to: {filtered_file_path}\")"
   ],
   "outputs": [
    {
     "ename": "ModuleNotFoundError",
     "evalue": "No module named 'pandas'",
     "output_type": "error",
     "traceback": [
      "\u001B[31m---------------------------------------------------------------------------\u001B[39m",
      "\u001B[31mModuleNotFoundError\u001B[39m                       Traceback (most recent call last)",
      "\u001B[36mCell\u001B[39m\u001B[36m \u001B[39m\u001B[32mIn[1]\u001B[39m\u001B[32m, line 1\u001B[39m\n\u001B[32m----> \u001B[39m\u001B[32m1\u001B[39m \u001B[38;5;28;01mimport\u001B[39;00m\u001B[38;5;250m \u001B[39m\u001B[34;01mpandas\u001B[39;00m\u001B[38;5;250m \u001B[39m\u001B[38;5;28;01mas\u001B[39;00m\u001B[38;5;250m \u001B[39m\u001B[34;01mpd\u001B[39;00m\n\u001B[32m      3\u001B[39m file_path = \u001B[33m\"\u001B[39m\u001B[33mdata/raw-data-crop-recommendation.csv\u001B[39m\u001B[33m\"\u001B[39m\n\u001B[32m      4\u001B[39m df = pd.read_csv(file_path)\n",
      "\u001B[31mModuleNotFoundError\u001B[39m: No module named 'pandas'"
     ]
    }
   ],
   "execution_count": 1
  },
  {
   "metadata": {
    "ExecuteTime": {
     "end_time": "2025-03-09T14:05:18.549806Z",
     "start_time": "2025-03-09T14:05:18.524245Z"
    }
   },
   "cell_type": "code",
   "source": [
    "import os\n",
    "import pandas as pd\n",
    "\n",
    "filtered_file_path = \"data/filtered-data-crop-recommendation.csv\"\n",
    "normalized_file_path = \"data/normalized-data-crop-recommendation.csv\"\n",
    "\n",
    "os.makedirs(\"data\", exist_ok=True)\n",
    "\n",
    "df = pd.read_csv(filtered_file_path)\n",
    "\n",
    "df = df.rename(columns={\n",
    "    \"N\": \"Nitrogen Content\",\n",
    "    \"P\": \"Phosphorous Content\",\n",
    "    \"K\": \"Potassium Content\"\n",
    "})\n",
    "\n",
    "numerical_columns = df.columns[:-1]\n",
    "\n",
    "df[numerical_columns] = (df[numerical_columns] - df[numerical_columns].min()) / (df[numerical_columns].max() - df[numerical_columns].min())\n",
    "\n",
    "df.to_csv(normalized_file_path, index=False)\n",
    "\n",
    "print(f\"Normalized dataset saved to: {normalized_file_path}\")\n"
   ],
   "id": "7db9332f5ada0f2a",
   "outputs": [
    {
     "name": "stdout",
     "output_type": "stream",
     "text": [
      "Normalized dataset saved to: data/normalized-data-crop-recommendation.csv\n"
     ]
    }
   ],
   "execution_count": 10
  },
  {
   "metadata": {},
   "cell_type": "code",
   "outputs": [],
   "execution_count": null,
   "source": "",
   "id": "fd5c098f2e5d5188"
  }
 ],
 "metadata": {
  "kernelspec": {
   "display_name": "Python 3",
   "language": "python",
   "name": "python3"
  },
  "language_info": {
   "codemirror_mode": {
    "name": "ipython",
    "version": 2
   },
   "file_extension": ".py",
   "mimetype": "text/x-python",
   "name": "python",
   "nbconvert_exporter": "python",
   "pygments_lexer": "ipython2",
   "version": "2.7.6"
  }
 },
 "nbformat": 4,
 "nbformat_minor": 5
}
