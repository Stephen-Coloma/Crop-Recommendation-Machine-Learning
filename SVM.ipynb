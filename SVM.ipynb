{
 "cells": [
  {
   "cell_type": "code",
   "id": "initial_id",
   "metadata": {
    "collapsed": true,
    "ExecuteTime": {
     "end_time": "2025-03-12T09:53:36.781300Z",
     "start_time": "2025-03-12T09:53:28.429551Z"
    }
   },
   "source": [
    "import numpy as np\n",
    "import pandas as pd\n",
    "from sklearn.model_selection import train_test_split, KFold\n",
    "# Apply metrics\n",
    "from sklearn.metrics import (\n",
    "    accuracy_score, classification_report, confusion_matrix,\n",
    "    precision_score, recall_score, roc_auc_score\n",
    ")"
   ],
   "outputs": [],
   "execution_count": 1
  },
  {
   "metadata": {
    "ExecuteTime": {
     "end_time": "2025-03-12T09:53:51.787236Z",
     "start_time": "2025-03-12T09:53:51.724726Z"
    }
   },
   "cell_type": "code",
   "source": [
    "# load dataset\n",
    "df = pd.read_csv('data/processed-data.csv')\n",
    "df = pd.get_dummies(df, columns=['ph', 'rainfall'])\n",
    "\n",
    "# split the dataframe into features (x) and labels (y)\n",
    "x = df.drop(columns = ['label'])\n",
    "y = df['label']"
   ],
   "id": "b4f108232c727e5",
   "outputs": [],
   "execution_count": 2
  },
  {
   "metadata": {
    "ExecuteTime": {
     "end_time": "2025-03-12T09:53:53.087303Z",
     "start_time": "2025-03-12T09:53:53.071675Z"
    }
   },
   "cell_type": "code",
   "source": [
    "# split the data to 90-10 where 90% is for training and testing while the remaining 10% is for unseen data\n",
    "x_seen, x_unseen, y_seen, y_unseen = train_test_split(x, y, test_size = 0.10, random_state = 42)"
   ],
   "id": "59fe383331a65ed6",
   "outputs": [],
   "execution_count": 3
  },
  {
   "metadata": {
    "ExecuteTime": {
     "end_time": "2025-03-12T09:53:54.576047Z",
     "start_time": "2025-03-12T09:53:54.246033Z"
    }
   },
   "cell_type": "code",
   "source": [
    "#Import svm model\n",
    "from sklearn import svm\n",
    "model = svm.SVC(kernel='poly', degree=3, C=1.0, gamma='scale', decision_function_shape='ovr', probability=True)\n",
    "\n",
    "# instantiate a 10-fold cross-validation\n",
    "kf = KFold(n_splits = 10, shuffle = True, random_state = 42)"
   ],
   "id": "f27572f1f3e9621b",
   "outputs": [],
   "execution_count": 4
  },
  {
   "metadata": {
    "ExecuteTime": {
     "end_time": "2025-03-12T09:53:56.349071Z",
     "start_time": "2025-03-12T09:53:55.669436Z"
    }
   },
   "cell_type": "code",
   "source": [
    "from sklearn.model_selection import cross_val_score, cross_val_predict\n",
    "\n",
    "# Perform 10-Fold Cross Validation on the training dataset (x_seen, y_seen)\n",
    "y_pred_cv = cross_val_predict(model, x_seen, y_seen, cv=kf)\n",
    "\n",
    "y_proba_cv = cross_val_predict(model, x_seen, y_seen, cv = kf, method = 'predict_proba')"
   ],
   "id": "3992a09b2c7ac000",
   "outputs": [],
   "execution_count": 5
  },
  {
   "metadata": {
    "ExecuteTime": {
     "end_time": "2025-03-12T09:54:02.745415Z",
     "start_time": "2025-03-12T09:54:02.701882Z"
    }
   },
   "cell_type": "code",
   "source": [
    "# Compute Metrics for Cross Validation for Seen data\n",
    "conf_matrix = confusion_matrix(y_seen, y_pred_cv)\n",
    "accuracy = accuracy_score(y_seen, y_pred_cv)\n",
    "precision = precision_score(y_seen, y_pred_cv, average='weighted')  # Use 'weighted' for multi-class\n",
    "recall = recall_score(y_seen, y_pred_cv, average='weighted')\n",
    "\n",
    "roc_auc = roc_auc_score(y_seen, y_proba_cv, multi_class = 'ovr')\n",
    "\n",
    "# Print Results\n",
    "print(\"Confusion Matrix:\\n\", conf_matrix)\n",
    "print(\"Accuracy:\", accuracy)\n",
    "print(\"Precision:\", precision)\n",
    "print(\"Recall:\", recall)\n",
    "print(\"ROC-AUC Score:\", roc_auc)\n",
    "\n"
   ],
   "id": "fe0a743de89b9a9a",
   "outputs": [
    {
     "name": "stdout",
     "output_type": "stream",
     "text": [
      "Confusion Matrix:\n",
      " [[87  0  0  0  0  0  4  0  0  0]\n",
      " [ 0 92  0  0  0  0  0  0  0  0]\n",
      " [ 0  0 94  0  0  0  0  0  0  0]\n",
      " [ 1  2  0 73  0  0  2  0 13  0]\n",
      " [ 0  0  0  0 87  0  0  0  0  0]\n",
      " [ 0  0  0  0  0 90  0  0  0  0]\n",
      " [ 1  0  0  0  0  2 91  0  0  0]\n",
      " [ 0  0  0  0  0  0  0 87  0  0]\n",
      " [ 0  0  0 46  0  0  0  0 41  0]\n",
      " [ 0  0  0  0  0  0  0  0  0 87]]\n",
      "Accuracy: 0.9211111111111111\n",
      "Precision: 0.9245619328997374\n",
      "Recall: 0.9211111111111111\n",
      "ROC-AUC Score: 0.9929868744732551\n"
     ]
    }
   ],
   "execution_count": 6
  },
  {
   "metadata": {
    "ExecuteTime": {
     "end_time": "2025-03-12T09:54:05.029944Z",
     "start_time": "2025-03-12T09:54:04.976484Z"
    }
   },
   "cell_type": "code",
   "source": [
    "# Train now the data based on 90% since it will be the basis on how it will behave for unseen data\n",
    "model.fit(x_seen, y_seen);"
   ],
   "id": "51ba7c1d9f3875dc",
   "outputs": [],
   "execution_count": 7
  },
  {
   "metadata": {
    "ExecuteTime": {
     "end_time": "2025-03-12T09:54:07.938961Z",
     "start_time": "2025-03-12T09:54:07.907713Z"
    }
   },
   "cell_type": "code",
   "source": [
    "# Test now the model based on the actual data (unseen na 10%)\n",
    "\n",
    "y_unseen_pred = model.predict(x_unseen)\n",
    "\n",
    "\n",
    "conf_matrix = confusion_matrix(y_unseen, y_unseen_pred)\n",
    "accuracy = accuracy_score(y_unseen, y_unseen_pred)\n",
    "precision = precision_score(y_unseen, y_unseen_pred, average='weighted')  # Use 'weighted' for multi-class\n",
    "recall = recall_score(y_unseen, y_unseen_pred, average='weighted')\n",
    "\n",
    "print(\"Confusion Matrix:\\n\", conf_matrix)\n",
    "print(\"Accuracy:\", accuracy)\n",
    "print(\"Precision:\", precision)\n",
    "print(\"Recall:\", recall)"
   ],
   "id": "41fa5079d414832a",
   "outputs": [
    {
     "name": "stdout",
     "output_type": "stream",
     "text": [
      "Confusion Matrix:\n",
      " [[ 9  0  0  0  0  0  0  0  0  0]\n",
      " [ 0  8  0  0  0  0  0  0  0  0]\n",
      " [ 0  0  6  0  0  0  0  0  0  0]\n",
      " [ 0  0  0  8  0  0  0  0  1  0]\n",
      " [ 0  0  0  0 13  0  0  0  0  0]\n",
      " [ 0  0  0  0  0 10  0  0  0  0]\n",
      " [ 0  0  0  0  0  0  6  0  0  0]\n",
      " [ 0  0  0  0  0  0  0 13  0  0]\n",
      " [ 0  0  0  6  0  0  0  0  7  0]\n",
      " [ 0  0  0  0  0  0  0  0  0 13]]\n",
      "Accuracy: 0.93\n",
      "Precision: 0.9451785714285714\n",
      "Recall: 0.93\n"
     ]
    }
   ],
   "execution_count": 9
  }
 ],
 "metadata": {
  "kernelspec": {
   "display_name": "Python 3",
   "language": "python",
   "name": "python3"
  },
  "language_info": {
   "codemirror_mode": {
    "name": "ipython",
    "version": 2
   },
   "file_extension": ".py",
   "mimetype": "text/x-python",
   "name": "python",
   "nbconvert_exporter": "python",
   "pygments_lexer": "ipython2",
   "version": "2.7.6"
  }
 },
 "nbformat": 4,
 "nbformat_minor": 5
}
