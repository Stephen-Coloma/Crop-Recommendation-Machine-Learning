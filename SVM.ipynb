{
 "cells": [
  {
   "cell_type": "code",
   "execution_count": null,
   "id": "initial_id",
   "metadata": {
    "ExecuteTime": {
     "end_time": "2025-03-12T09:53:36.781300Z",
     "start_time": "2025-03-12T09:53:28.429551Z"
    },
    "collapsed": true
   },
   "outputs": [],
   "source": [
    "import numpy as np\n",
    "import pandas as pd\n",
    "from sklearn import svm\n",
    "from sklearn.model_selection import train_test_split, ShuffleSplit, cross_validate\n",
    "# Apply metrics\n",
    "from sklearn.metrics import (\n",
    "    accuracy_score, confusion_matrix,\n",
    "    precision_score, recall_score, roc_auc_score\n",
    ")"
   ]
  },
  {
   "cell_type": "code",
   "execution_count": 2,
   "id": "b4f108232c727e5",
   "metadata": {
    "ExecuteTime": {
     "end_time": "2025-03-12T09:53:51.787236Z",
     "start_time": "2025-03-12T09:53:51.724726Z"
    }
   },
   "outputs": [],
   "source": [
    "# load dataset\n",
    "df = pd.read_csv('data/processed-data.csv')\n",
    "df = pd.get_dummies(df, columns=['ph', 'rainfall'])\n",
    "\n",
    "# split the dataframe into features (x) and labels (y)\n",
    "x = df.drop(columns = ['label'])\n",
    "y = df['label']"
   ]
  },
  {
   "cell_type": "code",
   "execution_count": null,
   "id": "59fe383331a65ed6",
   "metadata": {
    "ExecuteTime": {
     "end_time": "2025-03-12T09:53:53.087303Z",
     "start_time": "2025-03-12T09:53:53.071675Z"
    }
   },
   "outputs": [],
   "source": [
    "# split the data to 90-10 where 90% is for training and testing while the remaining 10% is for unseen data\n",
    "x_train_test, x_unseen, y_train_test, y_unseen = train_test_split(x, y, test_size = 0.1, random_state = 42)"
   ]
  },
  {
   "cell_type": "code",
   "execution_count": null,
   "id": "f27572f1f3e9621b",
   "metadata": {
    "ExecuteTime": {
     "end_time": "2025-03-12T09:53:54.576047Z",
     "start_time": "2025-03-12T09:53:54.246033Z"
    }
   },
   "outputs": [],
   "source": [
    "# instantiate the model\n",
    "model = svm.SVC(kernel='poly', degree=3, C=1.0, gamma='scale', decision_function_shape='ovr', probability=True)\n",
    "\n",
    "# instantiate a 10-fold cross-validation\n",
    "sp = ShuffleSplit(n_splits = 10, test_size = 0.2, random_state = 42)"
   ]
  },
  {
   "cell_type": "code",
   "execution_count": null,
   "id": "3992a09b2c7ac000",
   "metadata": {
    "ExecuteTime": {
     "end_time": "2025-03-12T09:53:56.349071Z",
     "start_time": "2025-03-12T09:53:55.669436Z"
    }
   },
   "outputs": [],
   "source": [
    "\n",
    "metrics = ['accuracy', 'precision_macro', 'recall_macro', 'roc_auc_ovr']\n",
    "\n",
    "# perform cross-validation and obtain the metrics\n",
    "metrics_results = cross_validate(model, x_train_test, y_train_test, cv = sp, scoring = metrics, return_estimator = True)"
   ]
  },
  {
   "cell_type": "code",
   "execution_count": null,
   "id": "5decf6a4",
   "metadata": {},
   "outputs": [],
   "source": [
    "conf_matrices = []\n",
    "\n",
    "for estimator, (_, test_index) in zip(metrics_results['estimator'], sp.split(x_train_test, y_train_test)):\n",
    "    # predict using the test set\n",
    "    y_pred = estimator.predict(x_train_test.iloc[test_index])\n",
    "\n",
    "    # compute the confusion matrix for this iteration\n",
    "    conf_matrix = confusion_matrix(y_train_test.iloc[test_index], y_pred)\n",
    "\n",
    "    # append the matrix to the list\n",
    "    conf_matrices.append(conf_matrix)\n",
    "\n",
    "# compute the average confusion matrix\n",
    "conf_matrix_avg = np.mean(conf_matrices, axis = 0)"
   ]
  },
  {
   "cell_type": "code",
   "execution_count": null,
   "id": "fe0a743de89b9a9a",
   "metadata": {
    "ExecuteTime": {
     "end_time": "2025-03-12T09:54:02.745415Z",
     "start_time": "2025-03-12T09:54:02.701882Z"
    }
   },
   "outputs": [
    {
     "name": "stdout",
     "output_type": "stream",
     "text": [
      "Confusion Matrix:\n",
      " [[87  0  0  0  0  0  4  0  0  0]\n",
      " [ 0 92  0  0  0  0  0  0  0  0]\n",
      " [ 0  0 94  0  0  0  0  0  0  0]\n",
      " [ 1  2  0 73  0  0  2  0 13  0]\n",
      " [ 0  0  0  0 87  0  0  0  0  0]\n",
      " [ 0  0  0  0  0 90  0  0  0  0]\n",
      " [ 1  0  0  0  0  2 91  0  0  0]\n",
      " [ 0  0  0  0  0  0  0 87  0  0]\n",
      " [ 0  0  0 46  0  0  0  0 41  0]\n",
      " [ 0  0  0  0  0  0  0  0  0 87]]\n",
      "Accuracy: 0.9211111111111111\n",
      "Precision: 0.9245619328997374\n",
      "Recall: 0.9211111111111111\n",
      "ROC-AUC Score: 0.9929868744732551\n"
     ]
    }
   ],
   "source": [
    "# Print Results\n",
    "print('\\nCross-Validation Evaluation Results:')\n",
    "print('Confusion Matrix: \\n', conf_matrix_avg)\n",
    "print(f'Accuracy: {metrics_results[\"test_accuracy\"].mean():.4f}')\n",
    "print(f'Precision: {metrics_results[\"test_precision_macro\"].mean():.4f}')\n",
    "print(f'Recall: {metrics_results[\"test_recall_macro\"].mean():.4f}')\n",
    "print(f'ROC AUC: {metrics_results[\"test_roc_auc_ovr\"].mean():.4f}')"
   ]
  },
  {
   "cell_type": "code",
   "execution_count": null,
   "id": "51ba7c1d9f3875dc",
   "metadata": {
    "ExecuteTime": {
     "end_time": "2025-03-12T09:54:05.029944Z",
     "start_time": "2025-03-12T09:54:04.976484Z"
    }
   },
   "outputs": [],
   "source": [
    "# Train now the data based on 90% since it will be the basis on how it will behave for unseen data\n",
    "model.fit(x_train_test, y_train_test)"
   ]
  },
  {
   "cell_type": "code",
   "execution_count": null,
   "id": "41fa5079d414832a",
   "metadata": {
    "ExecuteTime": {
     "end_time": "2025-03-12T09:54:07.938961Z",
     "start_time": "2025-03-12T09:54:07.907713Z"
    }
   },
   "outputs": [
    {
     "name": "stdout",
     "output_type": "stream",
     "text": [
      "Confusion Matrix:\n",
      " [[ 9  0  0  0  0  0  0  0  0  0]\n",
      " [ 0  8  0  0  0  0  0  0  0  0]\n",
      " [ 0  0  6  0  0  0  0  0  0  0]\n",
      " [ 0  0  0  8  0  0  0  0  1  0]\n",
      " [ 0  0  0  0 13  0  0  0  0  0]\n",
      " [ 0  0  0  0  0 10  0  0  0  0]\n",
      " [ 0  0  0  0  0  0  6  0  0  0]\n",
      " [ 0  0  0  0  0  0  0 13  0  0]\n",
      " [ 0  0  0  6  0  0  0  0  7  0]\n",
      " [ 0  0  0  0  0  0  0  0  0 13]]\n",
      "Accuracy: 0.93\n",
      "Precision: 0.9451785714285714\n",
      "Recall: 0.93\n"
     ]
    }
   ],
   "source": [
    "# Test now the model based on the actual data (unseen na 10%)\n",
    "\n",
    "y_unseen_pred = model.predict(x_unseen)\n",
    "\n",
    "conf_matrix = confusion_matrix(y_unseen, y_unseen_pred)\n",
    "accuracy = accuracy_score(y_unseen, y_unseen_pred)\n",
    "precision = precision_score(y_unseen, y_unseen_pred, average='weighted')  # Use 'weighted' for multi-class\n",
    "recall = recall_score(y_unseen, y_unseen_pred, average='weighted')\n",
    "roc_auc = roc_auc_score(y_unseen, model.predict_proba(x_unseen), multi_class='ovr')\n",
    "\n",
    "print(\"Confusion Matrix:\\n\", conf_matrix)\n",
    "print(f'Accuracy: {accuracy:.4f}')\n",
    "print(f'Precision: {precision:.4f}')\n",
    "print(f'Recall: {recall:.4f}')\n",
    "print(f'ROC AUC: {roc_auc:.4f}')"
   ]
  }
 ],
 "metadata": {
  "kernelspec": {
   "display_name": "Python 3",
   "language": "python",
   "name": "python3"
  },
  "language_info": {
   "codemirror_mode": {
    "name": "ipython",
    "version": 2
   },
   "file_extension": ".py",
   "mimetype": "text/x-python",
   "name": "python",
   "nbconvert_exporter": "python",
   "pygments_lexer": "ipython2",
   "version": "2.7.6"
  }
 },
 "nbformat": 4,
 "nbformat_minor": 5
}
