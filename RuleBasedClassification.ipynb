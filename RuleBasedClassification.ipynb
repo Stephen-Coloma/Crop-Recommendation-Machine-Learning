{
 "cells": [
  {
   "metadata": {
    "ExecuteTime": {
     "end_time": "2025-03-11T13:57:40.620732Z",
     "start_time": "2025-03-11T13:57:40.321524Z"
    }
   },
   "cell_type": "code",
   "source": [
    "import pandas as pd\n",
    "\n",
    "# load data\n",
    "data = pd.read_csv(\"data/processed-data.csv\") \n",
    "\n",
    "# define numerical and categorical columns\n",
    "numerical_columns = [\"Nitrogen Content\", \"Phosphorous Content\", \"Potassium Content\", \"temperature\", \"humidity\"]\n",
    "categorical_columns = [\"ph\", \"rainfall\"]\n",
    "\n"
   ],
   "id": "bb77a2d40389b781",
   "outputs": [],
   "execution_count": 6
  },
  {
   "metadata": {
    "ExecuteTime": {
     "end_time": "2025-03-11T13:57:42.192045Z",
     "start_time": "2025-03-11T13:57:42.160845Z"
    }
   },
   "cell_type": "code",
   "source": [
    "# group by class label\n",
    "rules = {}\n",
    "for label, group in data.groupby(\"label\"):\n",
    "    rule = {}\n",
    "\n",
    "   \n",
    "    for col in numerical_columns:\n",
    "        rule[col] = (group[col].min(), group[col].max())\n",
    "\n",
    "    for col in categorical_columns:\n",
    "        rule[col] = group[col].mode()[0] if not group[col].mode().empty else None\n",
    "\n",
    "    rules[label] = rule\n",
    "\n"
   ],
   "id": "d24967c706407d34",
   "outputs": [],
   "execution_count": 7
  },
  {
   "metadata": {
    "ExecuteTime": {
     "end_time": "2025-03-11T13:57:43.834794Z",
     "start_time": "2025-03-11T13:57:43.818893Z"
    }
   },
   "cell_type": "code",
   "source": [
    "# print extracted rules\n",
    "for label, conditions in rules.items():\n",
    "    print(f\"Rules for {label}:\")\n",
    "    for col, val in conditions.items():\n",
    "        if isinstance(val, tuple):\n",
    "            print(f\"  {col}: {val[0]} to {val[1]}\")\n",
    "        else:\n",
    "            print(f\"  {col}: {val}\")\n",
    "    print(\"\\n\")"
   ],
   "id": "70228e90a8a96420",
   "outputs": [
    {
     "name": "stdout",
     "output_type": "stream",
     "text": [
      "Rules for coffee:\n",
      "  Nitrogen Content: 0.5714285714285714 to 0.8571428571428571\n",
      "  Phosphorous Content: 0.0714285714285714 to 0.25\n",
      "  Potassium Content: 0.0526315789473684 to 0.1052631578947368\n",
      "  temperature: 0.4297271287566384 to 0.5765806131344975\n",
      "  humidity: 0.4156803948591286 to 0.6745917683011258\n",
      "  ph: Neutral\n",
      "  rainfall: Extremely Heavy Rain\n",
      "\n",
      "\n",
      "Rules for cotton:\n",
      "  Nitrogen Content: 0.7142857142857143 to 1.0\n",
      "  Phosphorous Content: 0.2142857142857142 to 0.3928571428571428\n",
      "  Potassium Content: 0.0 to 0.0526315789473684\n",
      "  temperature: 0.3977654071234973 to 0.5182715492301688\n",
      "  humidity: 0.7403823670554472 to 0.8687979178858863\n",
      "  ph: Neutral\n",
      "  rainfall: Very Heavy Rain\n",
      "\n",
      "\n",
      "Rules for grapes:\n",
      "  Nitrogen Content: 0.0 to 0.2857142857142857\n",
      "  Phosphorous Content: 0.8214285714285714 to 1.0\n",
      "  Potassium Content: 0.9473684210526316 to 1.0\n",
      "  temperature: 0.0 to 1.0\n",
      "  humidity: 0.805570406783002 to 0.8571786532243088\n",
      "  ph: Slightly Acid\n",
      "  rainfall: Heavy Rain\n",
      "\n",
      "\n",
      "Rules for jute:\n",
      "  Nitrogen Content: 0.4285714285714285 to 0.7142857142857143\n",
      "  Phosphorous Content: 0.2142857142857142 to 0.3928571428571428\n",
      "  Potassium Content: 0.1052631578947368 to 0.1578947368421052\n",
      "  temperature: 0.4307783290789255 to 0.5482642455868705\n",
      "  humidity: 0.686748962570011 to 0.934029852791786\n",
      "  ph: Neutral\n",
      "  rainfall: Extremely Heavy Rain\n",
      "\n",
      "\n",
      "Rules for kidneybeans:\n",
      "  Nitrogen Content: 0.0 to 0.2857142857142857\n",
      "  Phosphorous Content: 0.3571428571428571 to 0.5357142857142857\n",
      "  Potassium Content: 0.0 to 0.0526315789473684\n",
      "  temperature: 0.1963818201581361 to 0.4860047321858609\n",
      "  humidity: 0.0 to 0.0894687512546556\n",
      "  ph: Moderately Acid\n",
      "  rainfall: Very Heavy Rain\n",
      "\n",
      "\n",
      "Rules for lentil:\n",
      "  Nitrogen Content: 0.0 to 0.2857142857142857\n",
      "  Phosphorous Content: 0.3571428571428571 to 0.5357142857142857\n",
      "  Potassium Content: 0.0 to 0.0526315789473684\n",
      "  temperature: 0.2789358184433537 to 0.6375773616303605\n",
      "  humidity: 0.5463634076627184 to 0.6742754608079358\n",
      "  ph: Neutral\n",
      "  rainfall: Heavy Rain\n",
      "\n",
      "\n",
      "Rules for maize:\n",
      "  Nitrogen Content: 0.4285714285714285 to 0.7142857142857143\n",
      "  Phosphorous Content: 0.2142857142857142 to 0.3928571428571428\n",
      "  Potassium Content: 0.0 to 0.0526315789473684\n",
      "  temperature: 0.2782412590110885 to 0.5351024514010241\n",
      "  humidity: 0.4838036926557627 to 0.7380894519618583\n",
      "  ph: Slightly Acid\n",
      "  rainfall: Very Heavy Rain\n",
      "\n",
      "\n",
      "Rules for muskmelon:\n",
      "  Nitrogen Content: 0.5714285714285714 to 0.8571428571428571\n",
      "  Phosphorous Content: 0.0 to 0.1785714285714285\n",
      "  Potassium Content: 0.1578947368421052 to 0.2105263157894736\n",
      "  temperature: 0.5494214372699238 to 0.6375578304786066\n",
      "  humidity: 0.9356429525277572 to 1.0\n",
      "  ph: Slightly Acid\n",
      "  rainfall: Moderate Rain\n",
      "\n",
      "\n",
      "Rules for rice:\n",
      "  Nitrogen Content: 0.4285714285714285 to 0.7071428571428572\n",
      "  Phosphorous Content: 0.2142857142857142 to 0.3928571428571428\n",
      "  Potassium Content: 0.1052631578947368 to 0.1578947368421052\n",
      "  temperature: 0.3387297450054831 to 0.546577469650977\n",
      "  humidity: 0.8069530070732942 to 0.8699997111029593\n",
      "  ph: Neutral\n",
      "  rainfall: Extremely Heavy Rain\n",
      "\n",
      "\n",
      "Rules for watermelon:\n",
      "  Nitrogen Content: 0.5714285714285714 to 0.8571428571428571\n",
      "  Phosphorous Content: 0.0 to 0.1785714285714285\n",
      "  Potassium Content: 0.1578947368421052 to 0.2105263157894736\n",
      "  temperature: 0.4594357779274522 to 0.548270739869179\n",
      "  humidity: 0.8056981420095635 to 0.935239522819362\n",
      "  ph: Slightly Acid\n",
      "  rainfall: Heavy Rain\n",
      "\n",
      "\n"
     ]
    }
   ],
   "execution_count": 8
  },
  {
   "metadata": {},
   "cell_type": "code",
   "outputs": [],
   "execution_count": null,
   "source": "",
   "id": "c33c97cc6768e22a"
  }
 ],
 "metadata": {
  "kernelspec": {
   "display_name": "Python 3",
   "language": "python",
   "name": "python3"
  },
  "language_info": {
   "codemirror_mode": {
    "name": "ipython",
    "version": 2
   },
   "file_extension": ".py",
   "mimetype": "text/x-python",
   "name": "python",
   "nbconvert_exporter": "python",
   "pygments_lexer": "ipython2",
   "version": "2.7.6"
  }
 },
 "nbformat": 4,
 "nbformat_minor": 5
}
